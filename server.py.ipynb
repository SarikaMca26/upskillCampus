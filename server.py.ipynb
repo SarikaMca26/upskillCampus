{
 "cells": [
  {
   "cell_type": "code",
   "execution_count": 1,
   "id": "146a9572",
   "metadata": {},
   "outputs": [
    {
     "ename": "OSError",
     "evalue": "[WinError 10048] Only one usage of each socket address (protocol/network address/port) is normally permitted",
     "output_type": "error",
     "traceback": [
      "\u001b[1;31m---------------------------------------------------------------------------\u001b[0m",
      "\u001b[1;31mOSError\u001b[0m                                   Traceback (most recent call last)",
      "Cell \u001b[1;32mIn[1], line 10\u001b[0m\n\u001b[0;32m      8\u001b[0m ENCODE\u001b[38;5;241m=\u001b[39m\u001b[38;5;124m\"\u001b[39m\u001b[38;5;124mascii\u001b[39m\u001b[38;5;124m\"\u001b[39m\n\u001b[0;32m      9\u001b[0m server\u001b[38;5;241m=\u001b[39msocket\u001b[38;5;241m.\u001b[39msocket(socket\u001b[38;5;241m.\u001b[39mAF_INET,socket\u001b[38;5;241m.\u001b[39mSOCK_STREAM)\n\u001b[1;32m---> 10\u001b[0m server\u001b[38;5;241m.\u001b[39mbind((host,port))\n\u001b[0;32m     11\u001b[0m server\u001b[38;5;241m.\u001b[39mlisten()\n\u001b[0;32m     13\u001b[0m clients \u001b[38;5;241m=\u001b[39m []    \u001b[38;5;66;03m#new clients connecting to the server\u001b[39;00m\n",
      "\u001b[1;31mOSError\u001b[0m: [WinError 10048] Only one usage of each socket address (protocol/network address/port) is normally permitted"
     ]
    }
   ],
   "source": [
    "from base64 import encode\n",
    "from tarfile import ENCODING\n",
    "import threading\n",
    "import socket\n",
    "\n",
    "host=\"127.0.0.1\"\n",
    "port=55555\n",
    "ENCODE=\"ascii\"\n",
    "server=socket.socket(socket.AF_INET,socket.SOCK_STREAM)\n",
    "server.bind((host,port))\n",
    "server.listen()\n",
    "\n",
    "clients = []    #new clients connecting to the server\n",
    "nicknames = []  #inckname of the clients\n",
    "\n",
    "def broadcast(message):     #broadcast message from server to all the clients including this server/client\n",
    "    for client in clients:\n",
    "        client.send(message)\n",
    "\n",
    "def handle(client): #handling 1 client\n",
    "    while True:\n",
    "        try:\n",
    "            message=client.recv(1024)\n",
    "            broadcast(message)\n",
    "        except: #client disconnects\n",
    "            index=clients.index(client)\n",
    "            clients.remove(client)\n",
    "            client.close()\n",
    "            nickname = nicknames[index]\n",
    "            broadcast(f\"{nickname} left the chat!\".encode(ENCODING))\n",
    "            nicknames.remove(nickname)\n",
    "            break\n",
    "def receive():\n",
    "    while True:\n",
    "        client, address=server.accept()                         #loop waits here till server accepts connection request from client\n",
    "        print(f\"Connected with {str(address)}\")\n",
    "        client.send('NICK'.encode(ENCODING))\n",
    "        nickname = client.recv(1024).decode(ENCODING)\n",
    "\n",
    "        nicknames.append(nickname)\n",
    "        clients.append(client)\n",
    "\n",
    "        print(f\"Nickname of the client is {nickname}!\")\n",
    "        broadcast(f'{nickname} joined the chat'.encode(ENCODING))\n",
    "        client.send('Connected to the server!'.encode(ENCODING))\n",
    "\n",
    "        thread = threading.Thread(target=handle,args=(client,))     #one thread created for each client\n",
    "        thread.start()\n",
    "print(\"Server is listening....\")\n",
    "server_thread=threading.Thread(target=receive)\n",
    "server_thread.start()"
   ]
  },
  {
   "cell_type": "code",
   "execution_count": null,
   "id": "ee37ded8",
   "metadata": {},
   "outputs": [],
   "source": []
  }
 ],
 "metadata": {
  "kernelspec": {
   "display_name": "Python 3 (ipykernel)",
   "language": "python",
   "name": "python3"
  },
  "language_info": {
   "codemirror_mode": {
    "name": "ipython",
    "version": 3
   },
   "file_extension": ".py",
   "mimetype": "text/x-python",
   "name": "python",
   "nbconvert_exporter": "python",
   "pygments_lexer": "ipython3",
   "version": "3.11.5"
  }
 },
 "nbformat": 4,
 "nbformat_minor": 5
}
