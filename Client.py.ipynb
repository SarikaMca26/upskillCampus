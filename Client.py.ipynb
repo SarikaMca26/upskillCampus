{
 "cells": [
  {
   "cell_type": "code",
   "execution_count": 3,
   "id": "7acc21f8",
   "metadata": {},
   "outputs": [
    {
     "name": "stdout",
     "output_type": "stream",
     "text": [
      "Enter nickname : NICK\n",
      "Connected with ('127.0.0.1', 59845)\n",
      "Nickname of the client is NICK!\n",
      "NICK joined the chatNICK joined the chat\n",
      "\n",
      "Connected to the server!\n",
      "ascii\n"
     ]
    },
    {
     "name": "stderr",
     "output_type": "stream",
     "text": [
      "Exception in thread Thread-10 (write):\n",
      "Traceback (most recent call last):\n",
      "  File \"D:\\MCA\\Anaconda\\Lib\\threading.py\", line 1038, in _bootstrap_inner\n",
      "    self.run()\n",
      "  File \"D:\\MCA\\Anaconda\\Lib\\threading.py\", line 975, in run\n",
      "    self._target(*self._args, **self._kwargs)\n",
      "  File \"C:\\Users\\ADMIN\\AppData\\Local\\Temp\\ipykernel_9708\\2906645415.py\", line 25, in write\n",
      "EOFError: EOF when reading a line\n"
     ]
    },
    {
     "name": "stdout",
     "output_type": "stream",
     "text": [
      "saru left the chat!\n"
     ]
    }
   ],
   "source": [
    "from tarfile import ENCODING\n",
    "import threading\n",
    "import socket\n",
    "\n",
    "nickname=input(\"Enter nickname : \")\n",
    "\n",
    "ENCODING=\"ascii\"\n",
    "client= socket.socket(socket.AF_INET,socket.SOCK_STREAM)\n",
    "client.connect(('127.0.0.1', 55555))\n",
    "\n",
    "def receive():\n",
    "    while True:\n",
    "        try:\n",
    "            message=client.recv(1024).decode(ENCODING)\n",
    "            if message == 'NICK':\n",
    "                client.send(nickname.encode(ENCODING))\n",
    "            else:\n",
    "                print(message)\n",
    "        except:\n",
    "            print(\"An error occured!\")\n",
    "            client.close()\n",
    "            break\n",
    "def write():\n",
    "    while True:\n",
    "        message= f'{nickname}:{input(\"\")}'\n",
    "        client.send(message.encode(ENCODING))\n",
    "        \n",
    "receive_thread=threading.Thread(target=receive)\n",
    "receive_thread.start()\n",
    "\n",
    "write_thread=threading.Thread(target=write)\n",
    "write_thread.start()"
   ]
  },
  {
   "cell_type": "code",
   "execution_count": null,
   "id": "f72288a0",
   "metadata": {},
   "outputs": [],
   "source": []
  }
 ],
 "metadata": {
  "kernelspec": {
   "display_name": "Python 3 (ipykernel)",
   "language": "python",
   "name": "python3"
  },
  "language_info": {
   "codemirror_mode": {
    "name": "ipython",
    "version": 3
   },
   "file_extension": ".py",
   "mimetype": "text/x-python",
   "name": "python",
   "nbconvert_exporter": "python",
   "pygments_lexer": "ipython3",
   "version": "3.11.5"
  }
 },
 "nbformat": 4,
 "nbformat_minor": 5
}
